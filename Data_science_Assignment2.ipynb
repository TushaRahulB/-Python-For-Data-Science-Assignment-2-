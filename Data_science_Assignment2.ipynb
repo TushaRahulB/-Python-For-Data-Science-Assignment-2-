{
 "cells": [
  {
   "cell_type": "code",
   "execution_count": 4,
   "id": "03afde8f-4b39-439f-b1f2-48fd8e763f27",
   "metadata": {},
   "outputs": [
    {
     "name": "stdout",
     "output_type": "stream",
     "text": [
      "Requirement already satisfied: pandas in c:\\users\\tusha\\appdata\\local\\programs\\python\\python310\\lib\\site-packages (2.3.0)\n",
      "Requirement already satisfied: seaborn in c:\\users\\tusha\\appdata\\local\\programs\\python\\python310\\lib\\site-packages (0.13.2)\n",
      "Requirement already satisfied: matplotlib in c:\\users\\tusha\\appdata\\local\\programs\\python\\python310\\lib\\site-packages (3.10.3)\n",
      "Requirement already satisfied: plotly in c:\\users\\tusha\\appdata\\local\\programs\\python\\python310\\lib\\site-packages (6.1.2)\n",
      "Requirement already satisfied: numpy>=1.22.4 in c:\\users\\tusha\\appdata\\local\\programs\\python\\python310\\lib\\site-packages (from pandas) (2.2.6)\n",
      "Requirement already satisfied: python-dateutil>=2.8.2 in c:\\users\\tusha\\appdata\\local\\programs\\python\\python310\\lib\\site-packages (from pandas) (2.9.0.post0)\n",
      "Requirement already satisfied: pytz>=2020.1 in c:\\users\\tusha\\appdata\\local\\programs\\python\\python310\\lib\\site-packages (from pandas) (2025.2)\n",
      "Requirement already satisfied: tzdata>=2022.7 in c:\\users\\tusha\\appdata\\local\\programs\\python\\python310\\lib\\site-packages (from pandas) (2025.2)\n",
      "Requirement already satisfied: contourpy>=1.0.1 in c:\\users\\tusha\\appdata\\local\\programs\\python\\python310\\lib\\site-packages (from matplotlib) (1.3.2)\n",
      "Requirement already satisfied: cycler>=0.10 in c:\\users\\tusha\\appdata\\local\\programs\\python\\python310\\lib\\site-packages (from matplotlib) (0.12.1)\n",
      "Requirement already satisfied: fonttools>=4.22.0 in c:\\users\\tusha\\appdata\\local\\programs\\python\\python310\\lib\\site-packages (from matplotlib) (4.58.1)\n",
      "Requirement already satisfied: kiwisolver>=1.3.1 in c:\\users\\tusha\\appdata\\local\\programs\\python\\python310\\lib\\site-packages (from matplotlib) (1.4.8)\n",
      "Requirement already satisfied: packaging>=20.0 in c:\\users\\tusha\\appdata\\local\\programs\\python\\python310\\lib\\site-packages (from matplotlib) (24.2)\n",
      "Requirement already satisfied: pillow>=8 in c:\\users\\tusha\\appdata\\local\\programs\\python\\python310\\lib\\site-packages (from matplotlib) (10.4.0)\n",
      "Requirement already satisfied: pyparsing>=2.3.1 in c:\\users\\tusha\\appdata\\local\\programs\\python\\python310\\lib\\site-packages (from matplotlib) (3.2.3)\n",
      "Requirement already satisfied: narwhals>=1.15.1 in c:\\users\\tusha\\appdata\\local\\programs\\python\\python310\\lib\\site-packages (from plotly) (1.40.0)\n",
      "Requirement already satisfied: six>=1.5 in c:\\users\\tusha\\appdata\\local\\programs\\python\\python310\\lib\\site-packages (from python-dateutil>=2.8.2->pandas) (1.17.0)\n"
     ]
    }
   ],
   "source": [
    "!pip install pandas seaborn matplotlib plotly"
   ]
  },
  {
   "cell_type": "code",
   "execution_count": 4,
   "id": "7d55ff75-bf28-42e1-b656-720c9ccf385e",
   "metadata": {},
   "outputs": [],
   "source": [
    "# Importing necessary libraries\n",
    "import pandas as pd\n",
    "import numpy as np\n",
    "import matplotlib.pyplot as plt\n",
    "import seaborn as sns\n",
    "import plotly.express as px"
   ]
  },
  {
   "cell_type": "code",
   "execution_count": 29,
   "id": "210c31d0-1336-4ff5-9dbe-b4e236723106",
   "metadata": {},
   "outputs": [
    {
     "name": "stdout",
     "output_type": "stream",
     "text": [
      "Datasets Loaded Successfully\n"
     ]
    }
   ],
   "source": [
    "# Loading Sales Dataset\n",
    "sales_df = pd.read_excel(\"D:\\\\Tiger\\\\DataScienceAssignment2-Plotting-Graphs\\\\Data\\\\SalesData.xlsx\")\n",
    "sales_df['OrderDate'] = pd.to_datetime(sales_df['OrderDate'], errors='coerce')\n",
    "\n",
    "# Loading Diamonds Dataset\n",
    "diamonds_df = pd.read_csv(\"D:\\\\Tiger\\\\DataScienceAssignment2-Plotting-Graphs\\\\Data\\\\diamonds.csv\")\n",
    "\n",
    "# Loading imdb Dataset\n",
    "# there was an error while parsing so i added quoting and encoding handling\n",
    "imdb_df = pd.read_csv(\n",
    "    \"D:\\\\Tiger\\\\DataScienceAssignment2-Plotting-Graphs\\\\Data\\\\imdb.csv\",\n",
    "    on_bad_lines='skip',\n",
    "    encoding='utf-8',\n",
    "    quotechar='\"'\n",
    ")\n",
    "\n",
    "print(\"Datasets Loaded Successfully\")"
   ]
  },
  {
   "cell_type": "code",
   "execution_count": 68,
   "id": "0d077168-8c21-484d-a814-e535760e0516",
   "metadata": {},
   "outputs": [
    {
     "name": "stdout",
     "output_type": "stream",
     "text": [
      "   OrderDate   Region  Manager   SalesMan          Item  Units  Unit_price  \\\n",
      "0 2018-01-06     East   Martha  Alexander    Television     95      1198.0   \n",
      "1 2018-01-23  Central  Hermann     Shelli  Home Theater     50       500.0   \n",
      "2 2018-02-09  Central  Hermann       Luis    Television     36      1198.0   \n",
      "3 2018-02-26  Central  Timothy      David    Cell Phone     27       225.0   \n",
      "4 2018-03-15     West  Timothy    Stephen    Television     56      1198.0   \n",
      "\n",
      "   Sale_amt  days_diff  \n",
      "0  113810.0       1820  \n",
      "1   25000.0       1803  \n",
      "2   43128.0       1786  \n",
      "3    6075.0       1769  \n",
      "4   67088.0       1752  \n",
      "\n",
      "\n"
     ]
    }
   ],
   "source": [
    "#checking and verifying the datasets areloaded properly\n",
    "print(sales_df.head())\n",
    "print(\"\\n\")\n"
   ]
  },
  {
   "cell_type": "code",
   "execution_count": 67,
   "id": "8b2cf5f8-6a66-47a4-8704-e0fc3277175b",
   "metadata": {},
   "outputs": [
    {
     "name": "stdout",
     "output_type": "stream",
     "text": [
      "  carat      cut color clarity  depth  table  price     x     y     z  \\\n",
      "0  0.23    Ideal     E     SI2   61.5   55.0  326.0  3.95  3.98  2.43   \n",
      "1  0.21  Premium     E     SI1   59.8   61.0  326.0  3.89  3.84  2.31   \n",
      "2  0.23     Good     E     VS1   56.9   65.0  327.0  4.05  4.07  2.31   \n",
      "3  0.29  Premium     I     VS2   62.4   58.0  334.0  4.20  4.23  2.63   \n",
      "4  0.31     Good     J     SI2   63.3   58.0  335.0  4.34  4.35  2.75   \n",
      "\n",
      "     volume  \n",
      "0  38.20203  \n",
      "1   8.00000  \n",
      "2   8.00000  \n",
      "3  46.72458  \n",
      "4  51.91725  \n",
      "\n",
      "\n"
     ]
    }
   ],
   "source": [
    "print(diamonds_df.head())\n",
    "print(\"\\n\")\n"
   ]
  },
  {
   "cell_type": "code",
   "execution_count": 66,
   "id": "f63d3d25-7455-4f17-b5da-524f66f8ca2d",
   "metadata": {},
   "outputs": [
    {
     "name": "stdout",
     "output_type": "stream",
     "text": [
      "                   fn        tid                             title  \\\n",
      "0  titles01/tt0012349  tt0012349  Der Vagabund und das Kind (1921)   \n",
      "1  titles01/tt0015864  tt0015864                 Goldrausch (1925)   \n",
      "2  titles01/tt0017136  tt0017136                 Metropolis (1927)   \n",
      "3  titles01/tt0017925  tt0017925                Der General (1926)   \n",
      "4  titles01/tt0021749  tt0021749      Lichter der Großstadt (1931)   \n",
      "\n",
      "                wordsInTitle                                   url  \\\n",
      "0  der vagabund und das kind  http://www.imdb.com/title/tt0012349/   \n",
      "1                 goldrausch  http://www.imdb.com/title/tt0015864/   \n",
      "2                 metropolis  http://www.imdb.com/title/tt0017136/   \n",
      "3                der general  http://www.imdb.com/title/tt0017925/   \n",
      "4      lichter der gro stadt  http://www.imdb.com/title/tt0021749/   \n",
      "\n",
      "   imdbRating  ratingCount  duration    year         type  ...  News  \\\n",
      "0         8.4      40550.0    3240.0  1921.0  video.movie  ...     0   \n",
      "1         8.3      45319.0    5700.0  1925.0  video.movie  ...     0   \n",
      "2         8.4      81007.0    9180.0  1927.0  video.movie  ...     0   \n",
      "3         8.3      37521.0    6420.0  1926.0  video.movie  ...     0   \n",
      "4         8.7      70057.0    5220.0  1931.0  video.movie  ...     0   \n",
      "\n",
      "   RealityTV  Romance  SciFi  Short  Sport  TalkShow  Thriller  War  Western  \n",
      "0          0        0      0      0      0         0         0    0        0  \n",
      "1          0        0      0      0      0         0         0    0        0  \n",
      "2          0        0      1      0      0         0         0    0        0  \n",
      "3          0        0      0      0      0         0         0    0        0  \n",
      "4          0        1      0      0      0         0         0    0        0  \n",
      "\n",
      "[5 rows x 44 columns]\n",
      "\n",
      "\n"
     ]
    }
   ],
   "source": [
    "print(imdb_df.head())\n",
    "print(\"\\n\")"
   ]
  },
  {
   "cell_type": "code",
   "execution_count": 32,
   "id": "0283347c-074e-4d04-a487-f8f421a270df",
   "metadata": {},
   "outputs": [
    {
     "name": "stdout",
     "output_type": "stream",
     "text": [
      "           Item  Sale_amt\n",
      "0    Cell Phone    3375.0\n",
      "1          Desk     250.0\n",
      "2  Home Theater    2000.0\n",
      "3    Television    8386.0\n",
      "4   Video Games     936.0\n"
     ]
    }
   ],
   "source": [
    "# Question 1: Find the least amount sale that was done for each item.\n",
    "\n",
    "import pandas as pd\n",
    "least_sales = sales_df.groupby('Item')['Sale_amt'].min().reset_index()\n",
    "print(least_sales)"
   ]
  },
  {
   "cell_type": "code",
   "execution_count": 14,
   "id": "db106141-c37a-47d8-9d3b-6411f49bafe4",
   "metadata": {},
   "outputs": [
    {
     "name": "stdout",
     "output_type": "stream",
     "text": [
      "   Year   Region  Sale_amt\n",
      "0  2018  Central  479825.0\n",
      "1  2018     East  293780.0\n",
      "2  2018     West  105424.0\n",
      "3  2019  Central  349944.5\n",
      "4  2019     East   27227.0\n",
      "5  2019     West   49475.0\n"
     ]
    }
   ],
   "source": [
    "# Question 2: Compute the total sales for each year and region across all items\n",
    "\n",
    "sales_df['OrderDate'] = pd.to_datetime(sales_df['OrderDate'])\n",
    "sales_df['Year'] = sales_df['OrderDate'].dt.year\n",
    "total_sales = sales_df.groupby(['Year', 'Region'])['Sale_amt'].sum().reset_index()\n",
    "\n",
    "print(total_sales)"
   ]
  },
  {
   "cell_type": "code",
   "execution_count": 58,
   "id": "071207cf-a62a-497f-9aab-485ef50c0b68",
   "metadata": {},
   "outputs": [
    {
     "name": "stdout",
     "output_type": "stream",
     "text": [
      "0     1820\n",
      "1     1803\n",
      "2     1786\n",
      "3     1769\n",
      "4     1752\n",
      "5     1735\n",
      "6     1718\n",
      "7     1701\n",
      "8     1684\n",
      "9     1667\n",
      "10    1650\n",
      "11    1633\n",
      "12    1616\n",
      "13    1599\n",
      "14    1582\n",
      "15    1565\n",
      "16    1548\n",
      "17    1531\n",
      "18    1514\n",
      "19    1497\n",
      "20    1480\n",
      "21    1463\n",
      "22    1446\n",
      "23    1429\n",
      "24    1412\n",
      "25    1395\n",
      "26    1378\n",
      "27    1361\n",
      "28    1344\n",
      "29    1327\n",
      "30    1310\n",
      "31    1293\n",
      "32    1276\n",
      "33    1259\n",
      "34    1242\n",
      "35    1225\n",
      "36    1208\n",
      "37    1191\n",
      "38    1174\n",
      "39    1157\n",
      "40    1140\n",
      "41    1123\n",
      "42    1106\n",
      "Name: days_diff, dtype: int64\n"
     ]
    }
   ],
   "source": [
    "# Question 3: Create new column 'days_diff' with number of days difference between reference date and each order date\n",
    "\n",
    "reference_date = pd.to_datetime('2022-12-31')\n",
    "sales_df['days_diff'] = (reference_date - sales_df['OrderDate']).dt.days\n",
    "print(sales_df['days_diff'])"
   ]
  },
  {
   "cell_type": "code",
   "execution_count": 56,
   "id": "d6b89a53-9949-4b48-8020-1d7cc28f3cdb",
   "metadata": {},
   "outputs": [
    {
     "name": "stdout",
     "output_type": "stream",
     "text": [
      "   Manager            list_of_salesmen\n",
      "0  Douglas      [Michael, Karen, John]\n",
      "1  Hermann       [Shelli, Luis, Sigal]\n",
      "2   Martha  [Alexander, Steven, Diana]\n",
      "3  Timothy            [David, Stephen]\n"
     ]
    }
   ],
   "source": [
    "# Question 4: Create a dataframe with 'manager' and 'list_of_salesmen'\n",
    "\n",
    "manager_salesmen = sales_df.groupby('Manager')['SalesMan'].unique().reset_index()\n",
    "manager_salesmen.rename(columns={'SalesMan': 'list_of_salesmen'}, inplace=True)\n",
    "print(manager_salesmen)"
   ]
  },
  {
   "cell_type": "code",
   "execution_count": 53,
   "id": "afa86710-d53b-4ceb-aee0-7ab632fe6451",
   "metadata": {},
   "outputs": [
    {
     "name": "stdout",
     "output_type": "stream",
     "text": [
      "    Region  salesmen_count  total_sales\n",
      "0  Central               6     829769.5\n",
      "1     East               3     321007.0\n",
      "2     West               2     154899.0\n"
     ]
    }
   ],
   "source": [
    "# Question 5: For all regions find number of salesman and total sales\n",
    "\n",
    "region_summary = sales_df.groupby('Region').agg(\n",
    "    salesmen_count=('SalesMan', pd.Series.nunique),\n",
    "    total_sales=('Sale_amt', 'sum')\n",
    ").reset_index()\n",
    "\n",
    "print(region_summary)"
   ]
  },
  {
   "cell_type": "code",
   "execution_count": 52,
   "id": "16ec0f73-22a1-4c24-bd4b-6536fabe64ed",
   "metadata": {},
   "outputs": [
    {
     "name": "stdout",
     "output_type": "stream",
     "text": [
      "   Manager  percent_sales\n",
      "0  Douglas      18.308990\n",
      "1  Hermann      27.963188\n",
      "2   Martha      36.187629\n",
      "3  Timothy      17.540193\n"
     ]
    }
   ],
   "source": [
    "# Question 6: Create a dataframe with total sales as percentage for each manager\n",
    "\n",
    "manager_sales = sales_df.groupby('Manager')['Sale_amt'].sum()\n",
    "total = manager_sales.sum()\n",
    "percent_sales = (manager_sales / total * 100).reset_index(name='percent_sales')\n",
    "print(percent_sales)"
   ]
  },
  {
   "cell_type": "code",
   "execution_count": 51,
   "id": "d4a73741-c1e3-43e4-8c22-94b885f40f04",
   "metadata": {},
   "outputs": [
    {
     "name": "stdout",
     "output_type": "stream",
     "text": [
      "8.7\n"
     ]
    }
   ],
   "source": [
    "# Question 7: Get the imdb rating for fifth movie of dataframe\n",
    "\n",
    "fifth_movie_rating = imdb_df.iloc[4]['imdbRating']\n",
    "print(fifth_movie_rating)"
   ]
  },
  {
   "cell_type": "code",
   "execution_count": 50,
   "id": "e94623a6-64c5-4cc4-a3f7-4f09456e8a0b",
   "metadata": {},
   "outputs": [
    {
     "name": "stdout",
     "output_type": "stream",
     "text": [
      "Traffic Crossing Leeds Bridge (1888)\n",
      "\n",
      "Baseball The National Pastime (TV Episode 1994)\n",
      "\n"
     ]
    }
   ],
   "source": [
    "# Question 8: Return titles of movies with shortest and longest run time\n",
    "\n",
    "shortest = imdb_df.loc[imdb_df['duration'].idxmin(), 'title']\n",
    "longest = imdb_df.loc[imdb_df['duration'].idxmax(), 'title']\n",
    "\n",
    "print(shortest+\"\\n\")\n",
    "print(longest+\"\\n\")"
   ]
  },
  {
   "cell_type": "code",
   "execution_count": 37,
   "id": "13bf3cdc-aaba-4f6c-8c25-8404c41e306a",
   "metadata": {},
   "outputs": [
    {
     "name": "stdout",
     "output_type": "stream",
     "text": [
      "                                        title    year  imdbRating\n",
      "13605            Roundhay Garden Scene (1888)  1888.0         7.8\n",
      "13282    Traffic Crossing Leeds Bridge (1888)  1888.0         7.2\n",
      "6705                  Blacksmith Scene (1893)  1893.0         6.3\n",
      "12316  Dickson Experimental Sound Film (1894)  1894.0         6.8\n",
      "6706            The Kiss in the Tunnel (1899)  1899.0         5.9\n"
     ]
    }
   ],
   "source": [
    "# Question 9: Sort by release year (ascending) and IMDb rating (descending)\n",
    "sorted_df = imdb_df.sort_values(by=['year', 'imdbRating'], ascending=[True, False])\n",
    "print(sorted_df[['title', 'year', 'imdbRating']].head())"
   ]
  },
  {
   "cell_type": "code",
   "execution_count": 49,
   "id": "7a13729d-1ac4-4565-9155-c0552710bf7f",
   "metadata": {},
   "outputs": [
    {
     "name": "stdout",
     "output_type": "stream",
     "text": [
      "                              fn        tid  \\\n",
      "921     titles02/index.html.3068  tt3265732   \n",
      "1320    titles02/index.html.4822  tt3297996   \n",
      "2443    titles03/index.html.1911  tt0091455   \n",
      "3266    titles03/index.html.3047  tt0191831   \n",
      "3718    titles03/index.html.3630  tt0331560   \n",
      "3888    titles03/index.html.3854  tt0373262   \n",
      "3949    titles03/index.html.3930  tt0384784   \n",
      "5410    titles03/index.html.5718  tt1443387   \n",
      "5416    titles03/index.html.5723  tt1447181   \n",
      "5517    titles03/index.html.5837  tt1549133   \n",
      "5640    titles03/index.html.5979  tt1642270   \n",
      "6270    titles03/index.html.6665  tt2553180   \n",
      "6332    titles03/index.html.6733  tt2914030   \n",
      "6340    titles03/index.html.6740  tt2954870   \n",
      "6376    titles03/index.html.6781  tt3158674   \n",
      "6453    titles03/index.html.6865  tt3435758   \n",
      "6705         titles04/index.html  tt0000005   \n",
      "6706       titles04/index.html.1  tt0000248   \n",
      "7268   titles04/index.html.11013  tt1024675   \n",
      "7380   titles04/index.html.11219  tt1104326   \n",
      "7472   titles04/index.html.11386  tt1160329   \n",
      "7711   titles04/index.html.11793  tt1295036   \n",
      "7800   titles04/index.html.11934  tt1343059   \n",
      "8794   titles04/index.html.13656  tt2125840   \n",
      "9005   titles04/index.html.14036  tt2396775   \n",
      "9011   titles04/index.html.14044  tt2404170   \n",
      "9121   titles04/index.html.14213  tt2760848   \n",
      "9197   titles04/index.html.14337  tt3102724   \n",
      "9230   titles04/index.html.14404  tt3262324   \n",
      "9600       titles04/index.html.2  tt0000306   \n",
      "10650   titles04/index.html.3732  tt0086855   \n",
      "11221   titles04/index.html.4697  tt0102359   \n",
      "12109   titles04/index.html.6188  tt0140812   \n",
      "12685   titles04/index.html.7080  tt0248808   \n",
      "12838   titles04/index.html.7330  tt0272170   \n",
      "\n",
      "                                                   title  \\\n",
      "921    Words with Warwick Kathleen Kennedy (TV Episod...   \n",
      "1320   The Twenty-Eight Hits for Laughs Who the Hell ...   \n",
      "2443                             Die kleine Lampe (1986)   \n",
      "3266                                      Bigfoot (1967)   \n",
      "3718                Lord of the Piercing (TV Short 2002)   \n",
      "3888              Recruiting a Digital Army (Video 2000)   \n",
      "3949                                 (Ohne Titel) (2003)   \n",
      "5410   Cavalcade of Cartoon Comedy Things You Never H...   \n",
      "5416                                 My Left Sock (2003)   \n",
      "5517                       Un Parisien à New York (2007)   \n",
      "5640                            Love Tester (Video 2010)   \n",
      "6270              Bum Reviews Die Hard (TV Episode 2012)   \n",
      "6332            Movie Friends: Prashant Prabhakar (2013)   \n",
      "6340                             This Is England? (2012)   \n",
      "6376   Hannah and Her Sisters Remake: Los Angeles Fil...   \n",
      "6453   Ben's Boston The Real People of the Town (TV E...   \n",
      "6705                             Blacksmith Scene (1893)   \n",
      "6706                       The Kiss in the Tunnel (1899)   \n",
      "7268                     The Wayne Train (TV Movie 1973)   \n",
      "7380            Eureka: Hide and Seek (TV Series 2006– )   \n",
      "7472                                 The Landlord (2007)   \n",
      "7711      Cavalcade of Cartoon Comedy (TV Series 2008– )   \n",
      "7800   The Russell Harty Show 1974: Roger Moore and H...   \n",
      "8794      Forget About It Harry Potter (TV Episode 2011)   \n",
      "9005                     Zac Learns to Sail (Video 2010)   \n",
      "9011                               Where's Waldo? (2012)   \n",
      "9121   Terror Film Festival Promotional Video 2012 (2...   \n",
      "9197                           Top 1 Shark Movies (2013)   \n",
      "9230   Movie Friends - Eine Videothek stellt sich vor...   \n",
      "9600                             Le duel d'Hamlet (1900)   \n",
      "10650        The Adventures of André and Wally B. (1984)   \n",
      "11221  Luxo Jr. in 'Surprise' and 'Light & Heavy' (1991)   \n",
      "12109                            Any Bonds Today? (1942)   \n",
      "12685                            Der Vogelschreck (2000)   \n",
      "12838                   Let's All Go to the Lobby (1957)   \n",
      "\n",
      "                                            wordsInTitle  \\\n",
      "921       words with warwick kathleen kennedy tv episode   \n",
      "1320   the twenty eight hits for laughs who the hell ...   \n",
      "2443                                    die kleine lampe   \n",
      "3266                                             bigfoot   \n",
      "3718                       lord of the piercing tv short   \n",
      "3888                     recruiting a digital army video   \n",
      "3949                                          ohne titel   \n",
      "5410   cavalcade of cartoon comedy things you never h...   \n",
      "5416                                        my left sock   \n",
      "5517                                un parisien new york   \n",
      "5640                                   love tester video   \n",
      "6270                     bum reviews die hard tv episode   \n",
      "6332                    movie friends prashant prabhakar   \n",
      "6340                                     this is england   \n",
      "6376   hannah and her sisters remake los angeles film...   \n",
      "6453   ben s boston the real people of the town tv ep...   \n",
      "6705                                    blacksmith scene   \n",
      "6706                              the kiss in the tunnel   \n",
      "7268                            the wayne train tv movie   \n",
      "7380                      eureka hide and seek tv series   \n",
      "7472                                        the landlord   \n",
      "7711               cavalcade of cartoon comedy tv series   \n",
      "7800   the russell harty show roger moore and herv vi...   \n",
      "8794             forget about it harry potter tv episode   \n",
      "9005                            zac learns to sail video   \n",
      "9011                                       where s waldo   \n",
      "9121              terror film festival promotional video   \n",
      "9197                                    top shark movies   \n",
      "9230   movie friends eine videothek stellt sich vor v...   \n",
      "9600                                    le duel d hamlet   \n",
      "10650                 the adventures of andr and wally b   \n",
      "11221                luxo jr in surprise and light heavy   \n",
      "12109                                    any bonds today   \n",
      "12685                                   der vogelschreck   \n",
      "12838                          let s all go to the lobby   \n",
      "\n",
      "                                        url  imdbRating  ratingCount  \\\n",
      "921    http://www.imdb.com/title/tt3265732/         NaN          NaN   \n",
      "1320   http://www.imdb.com/title/tt3297996/         7.3         10.0   \n",
      "2443   http://www.imdb.com/title/tt0091455/         7.5       5793.0   \n",
      "3266   http://www.imdb.com/title/tt0191831/         7.3        198.0   \n",
      "3718   http://www.imdb.com/title/tt0331560/         7.7       2162.0   \n",
      "3888   http://www.imdb.com/title/tt0373262/         NaN          NaN   \n",
      "3949   http://www.imdb.com/title/tt0384784/         6.3          6.0   \n",
      "5410   http://www.imdb.com/title/tt1443387/         6.6         15.0   \n",
      "5416   http://www.imdb.com/title/tt1447181/         NaN          NaN   \n",
      "5517   http://www.imdb.com/title/tt1549133/         NaN          NaN   \n",
      "5640   http://www.imdb.com/title/tt1642270/         NaN          NaN   \n",
      "6270   http://www.imdb.com/title/tt2553180/         NaN          NaN   \n",
      "6332   http://www.imdb.com/title/tt2914030/         NaN          NaN   \n",
      "6340   http://www.imdb.com/title/tt2954870/         NaN          NaN   \n",
      "6376   http://www.imdb.com/title/tt3158674/         NaN          NaN   \n",
      "6453   http://www.imdb.com/title/tt3435758/         NaN          NaN   \n",
      "6705   http://www.imdb.com/title/tt0000005/         6.3       1039.0   \n",
      "6706   http://www.imdb.com/title/tt0000248/         5.9        530.0   \n",
      "7268   http://www.imdb.com/title/tt1024675/         5.8         10.0   \n",
      "7380   http://www.imdb.com/title/tt1104326/         8.0        740.0   \n",
      "7472   http://www.imdb.com/title/tt1160329/         8.2       3604.0   \n",
      "7711   http://www.imdb.com/title/tt1295036/         6.5       1814.0   \n",
      "7800   http://www.imdb.com/title/tt1343059/         NaN          NaN   \n",
      "8794   http://www.imdb.com/title/tt2125840/         5.5          8.0   \n",
      "9005   http://www.imdb.com/title/tt2396775/         NaN          NaN   \n",
      "9011   http://www.imdb.com/title/tt2404170/         NaN          NaN   \n",
      "9121   http://www.imdb.com/title/tt2760848/         NaN          NaN   \n",
      "9197   http://www.imdb.com/title/tt3102724/         7.9         14.0   \n",
      "9230   http://www.imdb.com/title/tt3262324/         NaN          NaN   \n",
      "9600   http://www.imdb.com/title/tt0000306/         5.8         83.0   \n",
      "10650  http://www.imdb.com/title/tt0086855/         5.4       2777.0   \n",
      "11221  http://www.imdb.com/title/tt0102359/         6.7        367.0   \n",
      "12109  http://www.imdb.com/title/tt0140812/         5.9        202.0   \n",
      "12685  http://www.imdb.com/title/tt0248808/         8.2      12964.0   \n",
      "12838  http://www.imdb.com/title/tt0272170/         6.5        348.0   \n",
      "\n",
      "       duration    year           type  ...  News  RealityTV  Romance  SciFi  \\\n",
      "921       180.0  2013.0  video.episode  ...     0          0        0      0   \n",
      "1320       60.0  2011.0  video.episode  ...     0          0        0      0   \n",
      "2443      120.0  1986.0    video.movie  ...     0          0        0      0   \n",
      "3266       60.0  1967.0    video.movie  ...     0          0        0      0   \n",
      "3718      180.0  2002.0       video.tv  ...     0          0        0      0   \n",
      "3888       60.0  2000.0    video.movie  ...     0          0        0      0   \n",
      "3949      180.0  2003.0    video.movie  ...     0          0        0      0   \n",
      "5410      120.0  2009.0  video.episode  ...     0          0        0      0   \n",
      "5416      120.0  2003.0    video.movie  ...     0          0        0      0   \n",
      "5517      120.0  2007.0    video.movie  ...     0          0        0      0   \n",
      "5640      180.0  2010.0    video.movie  ...     0          0        0      1   \n",
      "6270      120.0  2012.0  video.episode  ...     0          0        0      0   \n",
      "6332      120.0  2013.0    video.movie  ...     0          0        0      0   \n",
      "6340      120.0  2012.0    video.movie  ...     0          0        0      0   \n",
      "6376      180.0  2013.0    video.movie  ...     0          0        0      0   \n",
      "6453      180.0  2010.0  video.episode  ...     0          0        0      0   \n",
      "6705       60.0  1893.0    video.movie  ...     0          0        0      0   \n",
      "6706       60.0  1899.0    video.movie  ...     0          0        1      0   \n",
      "7268      180.0  1973.0    video.movie  ...     0          0        0      0   \n",
      "7380      120.0  2006.0       video.tv  ...     0          0        0      0   \n",
      "7472      120.0  2007.0    video.movie  ...     0          0        0      0   \n",
      "7711      120.0  2008.0       video.tv  ...     0          0        0      0   \n",
      "7800      180.0  1974.0    video.movie  ...     0          0        0      0   \n",
      "8794      180.0  2011.0  video.episode  ...     0          0        0      0   \n",
      "9005      120.0  2010.0    video.movie  ...     0          0        0      0   \n",
      "9011      180.0  2012.0    video.movie  ...     0          0        0      0   \n",
      "9121      120.0  2012.0    video.movie  ...     0          0        0      0   \n",
      "9197      180.0  2013.0    video.movie  ...     0          0        0      0   \n",
      "9230      180.0  2013.0    video.movie  ...     0          0        0      0   \n",
      "9600      120.0  1900.0    video.movie  ...     0          0        0      0   \n",
      "10650     120.0  1984.0    video.movie  ...     0          0        0      0   \n",
      "11221      60.0  1991.0    video.movie  ...     0          0        0      0   \n",
      "12109     180.0  1942.0    video.movie  ...     0          0        0      0   \n",
      "12685     180.0  2000.0    video.movie  ...     0          0        0      0   \n",
      "12838      60.0  1957.0    video.movie  ...     0          0        0      0   \n",
      "\n",
      "       Short  Sport  TalkShow  Thriller  War  Western  \n",
      "921        0      0         1         0    0        0  \n",
      "1320       0      0         0         0    0        0  \n",
      "2443       1      0         0         0    0        0  \n",
      "3266       1      0         0         0    0        0  \n",
      "3718       1      0         0         0    0        0  \n",
      "3888       1      0         0         0    0        0  \n",
      "3949       1      0         0         0    0        0  \n",
      "5410       0      0         0         0    0        0  \n",
      "5416       1      0         0         0    0        0  \n",
      "5517       1      0         0         0    0        0  \n",
      "5640       1      0         0         0    0        0  \n",
      "6270       1      0         0         0    0        0  \n",
      "6332       1      0         0         0    0        0  \n",
      "6340       1      0         0         0    0        0  \n",
      "6376       1      0         0         0    0        0  \n",
      "6453       1      0         0         0    0        0  \n",
      "6705       1      0         0         0    0        0  \n",
      "6706       1      0         0         0    0        0  \n",
      "7268       1      0         0         0    0        0  \n",
      "7380       0      0         0         0    0        0  \n",
      "7472       1      0         0         0    0        0  \n",
      "7711       0      0         0         0    0        0  \n",
      "7800       0      0         0         0    0        0  \n",
      "8794       0      0         0         0    0        0  \n",
      "9005       1      0         0         0    0        0  \n",
      "9011       1      0         0         0    0        0  \n",
      "9121       1      0         0         0    0        0  \n",
      "9197       1      0         0         0    0        0  \n",
      "9230       1      0         0         0    0        0  \n",
      "9600       1      0         0         0    0        0  \n",
      "10650      1      0         0         0    0        0  \n",
      "11221      1      0         0         0    0        0  \n",
      "12109      1      0         0         0    0        0  \n",
      "12685      1      0         0         0    0        0  \n",
      "12838      1      0         0         0    0        0  \n",
      "\n",
      "[35 rows x 44 columns]\n"
     ]
    }
   ],
   "source": [
    "# Question 10: Subset movies with duration between 30 and 180 minutes\n",
    "\n",
    "subset_df = imdb_df[(imdb_df['duration'] >= 30) & (imdb_df['duration'] <= 180)]\n",
    "print(subset_df)"
   ]
  },
  {
   "cell_type": "code",
   "execution_count": 48,
   "id": "e9aefcf0-5cbe-4fba-9ddb-cedc69aca1a5",
   "metadata": {},
   "outputs": [
    {
     "name": "stdout",
     "output_type": "stream",
     "text": [
      "149\n"
     ]
    }
   ],
   "source": [
    "# Question 11: Count the duplicate rows of diamonds DataFrame\n",
    "duplicate_count = diamonds_df.duplicated().sum()\n",
    "print(duplicate_count)"
   ]
  },
  {
   "cell_type": "code",
   "execution_count": 59,
   "id": "5dbed134-55ce-489e-8e73-087f2a08fa8e",
   "metadata": {},
   "outputs": [
    {
     "name": "stdout",
     "output_type": "stream",
     "text": [
      "      carat        cut color clarity  depth  table   price     x     y     z\n",
      "0      0.23      Ideal     E     SI2   61.5   55.0   326.0  3.95  3.98  2.43\n",
      "1      0.21    Premium     E     SI1   59.8   61.0   326.0  3.89  3.84  2.31\n",
      "2      0.23       Good     E     VS1   56.9   65.0   327.0  4.05  4.07  2.31\n",
      "3      0.29    Premium     I     VS2   62.4   58.0   334.0  4.20  4.23  2.63\n",
      "4      0.31       Good     J     SI2   63.3   58.0   335.0  4.34  4.35  2.75\n",
      "...     ...        ...   ...     ...    ...    ...     ...   ...   ...   ...\n",
      "53938  0.72      Ideal     D     SI1   60.8   57.0  2757.0  5.75  5.76  3.50\n",
      "53939  0.72       Good     D     SI1   63.1   55.0  2757.0  5.69  5.75  3.61\n",
      "53940   0.7  Very Good     D     SI1   62.8   60.0  2757.0  5.66  5.68  3.56\n",
      "53941  0.86    Premium     H     SI2   61.0   58.0  2757.0  6.15  6.12  3.74\n",
      "53942  0.75      Ideal     D     SI2   62.2   55.0  2757.0  5.83  5.87  3.64\n",
      "\n",
      "[53941 rows x 10 columns]\n"
     ]
    }
   ],
   "source": [
    "# Question 12: Drop rows with missing values in carat and cut columns\n",
    "\n",
    "cleaned_df = diamonds_df.dropna(subset=['carat', 'cut'])\n",
    "print(cleaned_df)"
   ]
  },
  {
   "cell_type": "code",
   "execution_count": 60,
   "id": "3a0ae295-0e92-4c46-8112-0fe4aa6edb21",
   "metadata": {},
   "outputs": [
    {
     "name": "stdout",
     "output_type": "stream",
     "text": [
      "       depth  table   price     x     y     z\n",
      "0       61.5   55.0   326.0  3.95  3.98  2.43\n",
      "1       59.8   61.0   326.0  3.89  3.84  2.31\n",
      "2       56.9   65.0   327.0  4.05  4.07  2.31\n",
      "3       62.4   58.0   334.0  4.20  4.23  2.63\n",
      "4       63.3   58.0   335.0  4.34  4.35  2.75\n",
      "...      ...    ...     ...   ...   ...   ...\n",
      "53938   60.8   57.0  2757.0  5.75  5.76  3.50\n",
      "53939   63.1   55.0  2757.0  5.69  5.75  3.61\n",
      "53940   62.8   60.0  2757.0  5.66  5.68  3.56\n",
      "53941   61.0   58.0  2757.0  6.15  6.12  3.74\n",
      "53942   62.2   55.0  2757.0  5.83  5.87  3.64\n",
      "\n",
      "[53943 rows x 6 columns]\n"
     ]
    }
   ],
   "source": [
    "# Question 13: Subset the dataframe with only numeric columns\n",
    "\n",
    "numeric_df = diamonds_df.select_dtypes(include='number')\n",
    "print(numeric_df)"
   ]
  },
  {
   "cell_type": "code",
   "execution_count": 61,
   "id": "9abc92e3-066f-4782-913d-f7337f68a8ca",
   "metadata": {},
   "outputs": [
    {
     "name": "stdout",
     "output_type": "stream",
     "text": [
      "0         38.202030\n",
      "1          8.000000\n",
      "2          8.000000\n",
      "3         46.724580\n",
      "4         51.917250\n",
      "            ...    \n",
      "53938    115.920000\n",
      "53939    118.110175\n",
      "53940    114.449728\n",
      "53941    140.766120\n",
      "53942    124.568444\n",
      "Name: volume, Length: 53943, dtype: float64\n"
     ]
    }
   ],
   "source": [
    "# Question 14: Compute volume as x*y*z if depth > 60, else set volume to 8\n",
    "\n",
    "def compute_volume(row):\n",
    "    if row['depth'] > 60:\n",
    "        return row['x'] * row['y'] * row['z']\n",
    "    else:\n",
    "        return 8\n",
    "\n",
    "diamonds_df['volume'] = diamonds_df.apply(compute_volume, axis=1)\n",
    "print(diamonds_df['volume'])"
   ]
  },
  {
   "cell_type": "code",
   "execution_count": 65,
   "id": "768523a3-0e94-48a6-b704-dc74b4a617bb",
   "metadata": {},
   "outputs": [
    {
     "name": "stdout",
     "output_type": "stream",
     "text": [
      "0         326.0\n",
      "1         326.0\n",
      "2         327.0\n",
      "3         334.0\n",
      "4         335.0\n",
      "          ...  \n",
      "53938    2757.0\n",
      "53939    2757.0\n",
      "53940    2757.0\n",
      "53941    2757.0\n",
      "53942    2757.0\n",
      "Name: price, Length: 53943, dtype: float64\n"
     ]
    }
   ],
   "source": [
    "# Question 15: Impute missing price values with mean\n",
    "\n",
    "diamonds_df['price'] = diamonds_df['price'].fillna(diamonds_df['price'].mean())\n",
    "print(diamonds_df['price'])"
   ]
  },
  {
   "cell_type": "code",
   "execution_count": null,
   "id": "620a2370-7402-4c90-a4ad-ab32808e9872",
   "metadata": {},
   "outputs": [],
   "source": []
  }
 ],
 "metadata": {
  "kernelspec": {
   "display_name": "Python 3 (ipykernel)",
   "language": "python",
   "name": "python3"
  },
  "language_info": {
   "codemirror_mode": {
    "name": "ipython",
    "version": 3
   },
   "file_extension": ".py",
   "mimetype": "text/x-python",
   "name": "python",
   "nbconvert_exporter": "python",
   "pygments_lexer": "ipython3",
   "version": "3.10.4"
  }
 },
 "nbformat": 4,
 "nbformat_minor": 5
}
